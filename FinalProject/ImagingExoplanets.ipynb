{
 "cells": [
  {
   "attachments": {},
   "cell_type": "markdown",
   "id": "1cad0116",
   "metadata": {},
   "source": [
    "# Imaging Exoplanets Tutorial\n",
    "\n",
    "We will use the `pyklip` package to subtract off the glare of the star and measure the position and brightness of the exoplanet"
   ]
  },
  {
   "cell_type": "code",
   "execution_count": null,
   "id": "cf8175b6",
   "metadata": {},
   "outputs": [],
   "source": [
    "!pip install pyklip"
   ]
  },
  {
   "attachments": {},
   "cell_type": "markdown",
   "id": "2a65ede7",
   "metadata": {},
   "source": [
    "# Setup\n",
    "\n",
    "## Download data from an epoch\n",
    "\n",
    "In the example below, you will see code blocks to download the data from 2009 and 2021. Start with one, before the other. "
   ]
  },
  {
   "cell_type": "code",
   "execution_count": null,
   "id": "e51dc027",
   "metadata": {},
   "outputs": [],
   "source": [
    "!mkdir Project_Materials_2009\n",
    "!wget -O Project_Materials_2009/center_im.fits https://www.astro.uvic.ca/~wthompson/posts/direct-image-data/Project_Materials_2009/center_im.fits\n",
    "!wget -O Project_Materials_2009/median_unsat.fits https://www.astro.uvic.ca/~wthompson/posts/direct-image-data/Project_Materials_2009/median_unsat.fits\n",
    "!wget -O Project_Materials_2009/rotnorth.fits https://www.astro.uvic.ca/~wthompson/posts/direct-image-data/Project_Materials_2009/rotnorth.fits\n",
    "\n",
    "# !mkdir Project_Materials_2021\n",
    "# !wget -O Project_Materials_2021/center_im.fits https://www.astro.uvic.ca/~wthompson/posts/direct-image-data/Project_Materials_2021/center_im_crop.fits\n",
    "# !wget -O Project_Materials_2021/median_unsat.fits https://www.astro.uvic.ca/~wthompson/posts/direct-image-data/Project_Materials_2021/median_unsat.fits\n",
    "# !wget -O Project_Materials_2021/rotnorth.fits https://www.astro.uvic.ca/~wthompson/posts/direct-image-data/Project_Materials_2021/rotnorth.fits"
   ]
  },
  {
   "attachments": {},
   "cell_type": "markdown",
   "id": "df935a52",
   "metadata": {},
   "source": [
    "## Import Packages"
   ]
  },
  {
   "cell_type": "code",
   "execution_count": null,
   "id": "a4c497dd",
   "metadata": {},
   "outputs": [],
   "source": [
    "import numpy as np\n",
    "import astropy.io.fits as fits\n",
    "import pyklip.parallelized\n",
    "import pyklip.instruments.Instrument as Instrument\n",
    "import pyklip.fakes\n",
    "\n",
    "import matplotlib.pylab as plt\n",
    "%matplotlib inline"
   ]
  },
  {
   "attachments": {},
   "cell_type": "markdown",
   "id": "5b923236",
   "metadata": {},
   "source": [
    "# Read in the necessary data\n",
    "\n",
    "We will read in three different files:\n",
    "\n",
    " 1. A time series of the science data. This is a 3-D image cube consisting of images of the system taken over time. The sky rotates over this period of time due to angular differential imaging. If you look really carefully, you can actually see a couple of planets! \n",
    " 2. An image of the star not blocked by the coronagraph, so we can measure the flux of the star. This is needed to measure flux ratio between the planet and the star.\n",
    " 3. A 1-D array of parallactic angles. These angles specify the rotation of the sky for each frame in the 3-D image cube due to the Earth's rotation. These are needed to derotate the images so we can stack the signal of the planet together on the same pixel. "
   ]
  },
  {
   "cell_type": "code",
   "execution_count": null,
   "id": "1f0d5e3d",
   "metadata": {},
   "outputs": [],
   "source": [
    "# load in the science frames for imaging the planet\n",
    "with fits.open(\"Project_Materials_2009/center_im.fits\") as hdulist:\n",
    "    img_cube = hdulist[0].data # Series of images of the star system taken in time \n",
    "    exptime = hdulist[0].header['ITIME'] * hdulist[0].header['COADDS']\n",
    "    \n",
    "# the location of the star behind the coronagraph based on the documentaion\n",
    "star_centx = (img_cube.shape[2]-1)/2\n",
    "star_centy = (img_cube.shape[1]-1)/2\n",
    "\n",
    "# load in the calibration frame to calibrate the brightness of any sources with respect to the star\n",
    "with fits.open(\"Project_Materials_2009/median_unsat.fits\") as hdulist:\n",
    "    calib_frame = hdulist[0].data # image of the unsaturated star for photometric calibration\n",
    "    calib_exptime = hdulist[0].header['ITIME'] * hdulist[0].header['COADDS']\n",
    "\n",
    "# the location of the star in the calibration frame\n",
    "calib_centx = (calib_frame.shape[1]-1)/2\n",
    "calib_centy = (calib_frame.shape[0]-1)/2\n",
    "\n",
    "# the parallactic angles corresponding to each frame for angular differential imaging\n",
    "with fits.open(\"Project_Materials_2009/rotnorth.fits\") as hdulist:\n",
    "    rot_angles = hdulist[0].data # rotation angle of the night sky for each science frame\n",
    "    \n",
    "plt.figure()\n",
    "plt.imshow(img_cube[0], cmap=\"inferno\")\n",
    "plt.xlim([star_centx-150, star_centx+150])\n",
    "plt.ylim([star_centy-150, star_centy+150])\n",
    "plt.title(\"Science Frame\")\n",
    "\n",
    "plt.figure()\n",
    "plt.imshow(calib_frame, cmap=\"inferno\")\n",
    "plt.xlim([calib_centx-150, calib_centx+150])\n",
    "plt.ylim([calib_centy-150, calib_centy+150])\n",
    "plt.title(\"Calibration Frame\")"
   ]
  },
  {
   "attachments": {},
   "cell_type": "markdown",
   "id": "d11eef41",
   "metadata": {},
   "source": [
    "# Load in the data into `pyklip`\n",
    "\n",
    "We need to specify the location of the star in each frame, and then pass the data into the `pyklip` framework, which standardizes data from many high-contrast imaging instruments"
   ]
  },
  {
   "cell_type": "code",
   "execution_count": null,
   "id": "89e58c5d",
   "metadata": {},
   "outputs": [],
   "source": [
    "centers = np.array([[star_centx, star_centy] for _ in range(img_cube.shape[0])])\n",
    "\n",
    "dataset = Instrument.GenericData(img_cube, centers, parangs=-rot_angles)\n",
    "dataset.OWA = 250"
   ]
  },
  {
   "attachments": {},
   "cell_type": "markdown",
   "id": "8e377fde",
   "metadata": {},
   "source": [
    "# Subtract off the stellar PSF\n",
    "\n",
    "This parallelized code runs \"KLIP\" (basically PCA) to remove the glare of the star. Note that is might take a couple of minutes to run -- this is a computationally intensive method. "
   ]
  },
  {
   "cell_type": "code",
   "execution_count": null,
   "id": "d93d79c6",
   "metadata": {},
   "outputs": [],
   "source": [
    "pyklip.parallelized.klip_dataset(dataset, outputdir=\"./\", fileprefix=\"epoch1\", annuli=11, \n",
    "                                 subsections=1, numbasis=[20], maxnumbasis=100, mode=\"ADI\",\n",
    "                                 movement=1)"
   ]
  },
  {
   "attachments": {},
   "cell_type": "markdown",
   "id": "fc119f54",
   "metadata": {},
   "source": [
    "# Show the output image\n",
    "\n",
    "Do you see any planets?"
   ]
  },
  {
   "cell_type": "code",
   "execution_count": null,
   "id": "7ce9fc69",
   "metadata": {},
   "outputs": [],
   "source": [
    "output_img = np.nanmean(dataset.output[0,:,0], axis=0) # combine images in time\n",
    "\n",
    "plt.figure()\n",
    "plt.imshow(output_img, cmap=\"inferno\", vmin=np.nanpercentile(output_img, 1), vmax=np.nanpercentile(output_img, 99.7))\n",
    "plt.xlim([dataset.output_centers[0,0]-200, dataset.output_centers[0,0]+200])\n",
    "plt.ylim([dataset.output_centers[0,1]-200, dataset.output_centers[0,1]+200])\n",
    "plt.title(\"Stellar PSF Subtracted Image\")"
   ]
  },
  {
   "attachments": {},
   "cell_type": "markdown",
   "id": "0081e90f",
   "metadata": {},
   "source": [
    "# Measure the position and brighness of a planet \n",
    "\n",
    "The code below works for a single planet by fitting the planet to a 2-D Gaussian. This is not the most optimal method, but it is fast and good enough for demonstration purposes. \n",
    "\n",
    "**Note**: you need to change the `guess_x` and `guess_y` values for each planet you want to measure the properties these. These two values are an approximate (x,y) pixel location for the position of the planet in the processed image shown above. The guess needs to be fairly accurate (< 10 pixels), so you may need to zoom into portions of the image (or open the output FITS file in the FITS viewer like DS9) to come up with a good guess. \n",
    "\n",
    "The code cell below will measure the planet's flux, compute the relative offset from the star, and output the separation (in milliarcseconds) and position angle (in degrees) of the planet with respect to the star.\n",
    "\n",
    "Note that the planet flux is still in arbitrary units. The cell after this one will calibrate it to the star."
   ]
  },
  {
   "cell_type": "code",
   "execution_count": null,
   "id": "e1325051",
   "metadata": {},
   "outputs": [],
   "source": [
    "guess_x, guess_y = 575, 583\n",
    "guess_flux = 800\n",
    "\n",
    "peakflux, fwhm, planet_x, planet_y = pyklip.fakes.gaussfit2d(output_img, guess_x, guess_y, guesspeak=guess_flux)\n",
    "print(peakflux, planet_x, planet_y)\n",
    "\n",
    "star_y, star_x = dataset.output_centers[0]\n",
    "\n",
    "planet_sep_pixels = np.sqrt((planet_x - star_x)**2 + (planet_y - star_y)**2)\n",
    "planet_PA = np.degrees(np.arctan2(-(planet_x - star_x), planet_y - star_y)) % 360\n",
    "\n",
    "platescale = 9.952 # mas/pixel\n",
    "planet_sep_mas = planet_sep_pixels * platescale\n",
    "\n",
    "print(planet_sep_mas, planet_PA)"
   ]
  },
  {
   "attachments": {},
   "cell_type": "markdown",
   "id": "db132a73",
   "metadata": {},
   "source": [
    "## Measure the flux ratio of the planet\n",
    "\n",
    "We will measure the flux of the star in the calibration frame, account for the difference in exposure times, and measure the flux ratio of the planet with respect to the star. "
   ]
  },
  {
   "cell_type": "code",
   "execution_count": null,
   "id": "cde3b786",
   "metadata": {},
   "outputs": [],
   "source": [
    "peakflux_star, _, _, _ = pyklip.fakes.gaussfit2d(calib_frame, calib_centx, calib_centy, guesspeak=10000)\n",
    "\n",
    "flux_ratio = (peakflux/exptime)/(peakflux_star/calib_exptime)\n",
    "print(flux_ratio)"
   ]
  }
 ],
 "metadata": {
  "kernelspec": {
   "display_name": "Python 3 (ipykernel)",
   "language": "python",
   "name": "python3"
  },
  "language_info": {
   "codemirror_mode": {
    "name": "ipython",
    "version": 3
   },
   "file_extension": ".py",
   "mimetype": "text/x-python",
   "name": "python",
   "nbconvert_exporter": "python",
   "pygments_lexer": "ipython3",
   "version": "3.9.1"
  }
 },
 "nbformat": 4,
 "nbformat_minor": 5
}
