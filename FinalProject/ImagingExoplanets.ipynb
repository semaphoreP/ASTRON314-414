{
 "cells": [
  {
   "cell_type": "code",
   "execution_count": null,
   "id": "a4c497dd",
   "metadata": {},
   "outputs": [],
   "source": [
    "import numpy as np\n",
    "import astropy.io.fits as fits\n",
    "import pyklip.parallelized\n",
    "import pyklip.instruments.Instrument as Instrument\n",
    "import pyklip.fakes\n",
    "\n",
    "import matplotlib.pylab as plt\n",
    "%matplotlib inline"
   ]
  },
  {
   "cell_type": "code",
   "execution_count": null,
   "id": "1f0d5e3d",
   "metadata": {},
   "outputs": [],
   "source": [
    "with fits.open(\"Project_Materials_2009/center_im.fits\") as hdulist:\n",
    "    img_cube = hdulist[0].data # Series of images of the star system taken in time \n",
    "    exptime = hdulist[0].header['ITIME'] * hdulist[0].header['COADDS']\n",
    "    \n",
    "with fits.open(\"Project_Materials_2009/median_unsat.fits\") as hdulist:\n",
    "    calib_frame = hdulist[0].data # 1024 x 1024 image of the unsaturated star for photometric calibration\n",
    "    calib_exptime = hdulist[0].header['ITIME'] * hdulist[0].header['COADDS']\n",
    "    \n",
    "with fits.open(\"Project_Materials_2009/rotnorth.fits\") as hdulist:\n",
    "    rot_angles = hdulist[0].data # rotation angle of the night sky for each science frame\n",
    "    \n",
    "plt.figure()\n",
    "plt.imshow(img_cube[0], cmap=\"inferno\")\n",
    "plt.xlim([512-150, 512+150])\n",
    "plt.ylim([512-150, 512+150])\n",
    "plt.title(\"Science Frame\")\n",
    "\n",
    "plt.figure()\n",
    "plt.imshow(calib_frame, cmap=\"inferno\")\n",
    "plt.xlim([512-150, 512+150])\n",
    "plt.ylim([512-150, 512+150])\n",
    "plt.title(\"Calibration Frame\")"
   ]
  },
  {
   "cell_type": "code",
   "execution_count": null,
   "id": "89e58c5d",
   "metadata": {},
   "outputs": [],
   "source": [
    "centers = np.array([[(img_cube.shape[2]-1)/2, (img_cube.shape[1]-1)/2] for _ in range(img_cube.shape[0])])\n",
    "\n",
    "dataset = Instrument.GenericData(img_cube, centers, parangs=-rot_angles)\n",
    "dataset.OWA = 250"
   ]
  },
  {
   "cell_type": "code",
   "execution_count": null,
   "id": "d93d79c6",
   "metadata": {},
   "outputs": [],
   "source": [
    "pyklip.parallelized.klip_dataset(dataset, outputdir=\"./\", fileprefix=\"epoch1\", annuli=11, \n",
    "                                 subsections=1, numbasis=[20], maxnumbasis=100, mode=\"ADI\",\n",
    "                                 movement=1)"
   ]
  },
  {
   "cell_type": "code",
   "execution_count": null,
   "id": "7ce9fc69",
   "metadata": {},
   "outputs": [],
   "source": [
    "output_img = np.nanmean(dataset.output[0,:,0], axis=0)\n",
    "\n",
    "plt.figure()\n",
    "plt.imshow(output_img, cmap=\"inferno\", vmin=np.nanpercentile(output_img, 1), vmax=np.nanpercentile(output_img, 99.7))\n",
    "plt.xlim([512-200, 512+200])\n",
    "plt.ylim([512-200, 512+200])\n",
    "plt.title(\"Stellar PSF Subtracted Image\")"
   ]
  },
  {
   "cell_type": "code",
   "execution_count": null,
   "id": "e1325051",
   "metadata": {},
   "outputs": [],
   "source": [
    "guess_x, guess_y = 575, 583\n",
    "guess_flux = 800\n",
    "\n",
    "peakflux, fwhm, planet_x, planet_y = pyklip.fakes.gaussfit2d(output_img, guess_x, guess_y, guesspeak=guess_flux)\n",
    "print(peakflux, planet_x, planet_y)\n",
    "\n",
    "star_y, star_x = dataset.output_centers[0]\n",
    "\n",
    "planet_sep_pixels = np.sqrt((planet_x - star_x)**2 + (planet_y - star_y)**2)\n",
    "planet_PA = np.degrees(np.arctan2(-(planet_x - star_x), planet_y - star_y)) % 360\n",
    "\n",
    "platescale = 9.952 # mas/pixel\n",
    "planet_sep_mas = planet_sep_pixels * platescale\n",
    "\n",
    "print(planet_sep_mas, planet_PA)"
   ]
  },
  {
   "cell_type": "code",
   "execution_count": null,
   "id": "cde3b786",
   "metadata": {},
   "outputs": [],
   "source": [
    "peakflux_star, _, _, _ = pyklip.fakes.gaussfit2d(calib_frame, 511.5, 511.5, guesspeak=10000)\n",
    "\n",
    "flux_ratio = (peakflux/exptime)/(peakflux_star/calib_exptime)\n",
    "print(flux_ratio)"
   ]
  },
  {
   "cell_type": "code",
   "execution_count": null,
   "id": "f8815094",
   "metadata": {},
   "outputs": [],
   "source": []
  }
 ],
 "metadata": {
  "kernelspec": {
   "display_name": "Python 3 (ipykernel)",
   "language": "python",
   "name": "python3"
  },
  "language_info": {
   "codemirror_mode": {
    "name": "ipython",
    "version": 3
   },
   "file_extension": ".py",
   "mimetype": "text/x-python",
   "name": "python",
   "nbconvert_exporter": "python",
   "pygments_lexer": "ipython3",
   "version": "3.9.1"
  }
 },
 "nbformat": 4,
 "nbformat_minor": 5
}
