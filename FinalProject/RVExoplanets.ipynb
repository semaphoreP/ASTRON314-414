{
 "cells": [
  {
   "attachments": {},
   "cell_type": "markdown",
   "id": "d568a5b5",
   "metadata": {},
   "source": [
    "# Radial Velocity Measurements of Exoplanets\n",
    "\n",
    "This notebook demonstrates how to measure the mass of a planet using radial velocity data. \n",
    "\n",
    "# Installation\n",
    "\n",
    "Run the following piece of code to install the radvel package. We will use a slightly modified version of radvel for running on Google Colab. "
   ]
  },
  {
   "cell_type": "code",
   "execution_count": null,
   "id": "fefc4b3b",
   "metadata": {},
   "outputs": [],
   "source": [
    "!git clone https://github.com/semaphoreP/radvel.git\n",
    "!pip install -e ./radvel"
   ]
  },
  {
   "attachments": {},
   "cell_type": "markdown",
   "id": "30172b78",
   "metadata": {},
   "source": [
    "## You need to restart your environment after running the previous commands\n",
    "\n",
    "From the top menu: Runtime -> Restart Runtime. After you have restarted the runtime, proceed. \n",
    "\n",
    "# Setup\n",
    "\n",
    "## Record RV measurements in a text file\n",
    "Follow the format of [this example text file](https://github.com/semaphoreP/ASTRON314-414/blob/main/FinalProject/example_rvs.txt) to record your measurements from the literature. Each row contains a single epoch measurement: the time of observations (`time`), the radial velocity (`mnvel`), and the error on the radial velocity (`errvel`). You will definitely need more than the 3 points to measure the mass of the planet. \n",
    "\n",
    "To find radial velocity data, search the literature for the object you are interested in characterizing. Hint: look up the reference for the mass listed in the Exoplanet Archive (that paper likely contains these measurements or references the paper in which these measurements are published). \n",
    "\n",
    "When you have made your own text file, upload it to Colab.\n",
    "\n",
    "\n",
    "## Import packages"
   ]
  },
  {
   "cell_type": "code",
   "execution_count": 86,
   "id": "4e608f2e",
   "metadata": {},
   "outputs": [],
   "source": [
    "import os\n",
    "import copy\n",
    "import pandas as pd\n",
    "import numpy as np\n",
    "import scipy.optimize as optimize\n",
    "import radvel\n",
    "import radvel.plot.orbit_plots as orbit_plots\n",
    "import matplotlib.pylab as plt\n",
    "%matplotlib inline\n"
   ]
  },
  {
   "attachments": {},
   "cell_type": "markdown",
   "id": "87a80016",
   "metadata": {},
   "source": [
    "## Read in radial velocity data\n",
    "\n",
    "Upload the data into the folder with this notebook, so that it can be read in. "
   ]
  },
  {
   "cell_type": "code",
   "execution_count": null,
   "id": "f0213e78",
   "metadata": {},
   "outputs": [],
   "source": [
    "\n",
    "# read file\n",
    "data = pd.read_csv(\"example_rvs.txt\", sep=' ')\n",
    "# parse out the three columns into numpy arrays\n",
    "t = np.array(data['time'])\n",
    "vel = np.array(data['mnvel'])\n",
    "errvel = data['errvel']\n",
    "\n",
    "print(data)"
   ]
  },
  {
   "attachments": {},
   "cell_type": "markdown",
   "id": "63199985",
   "metadata": {},
   "source": [
    "# Setup the radial velocity model\n",
    "\n",
    "The `radvel` package is good at fitting for most of the orbital parameters, but you need to specify the initial guess for the orbital period for the fit to work effectively (the `per1` field below). \n",
    "\n",
    "Note that `radvel` uses an orbital basis different from the one we disucssed in class. See Section 2.2 and Table 2 of [this paper](https://iopscience.iop.org/article/10.1088/1538-3873/aaaaa8/pdf) for details. In particular, you will care about `logk1`, which is the natural log of the RV semi-aplitude. "
   ]
  },
  {
   "cell_type": "code",
   "execution_count": 90,
   "id": "cbfc929c",
   "metadata": {},
   "outputs": [],
   "source": [
    "# Create the orbital model. Change the orbital period to the orbital period of your planet!!\n",
    "def initialize_model():\n",
    "    time_base = 2456778\n",
    "    params = radvel.Parameters(1,basis='per tc secosw sesinw logk')\n",
    "    params['per1'] = radvel.Parameter(value=0.83753) # CHANGE THIS (unit is days)\n",
    "    params['tc1'] = radvel.Parameter(value=2456778 + 1)\n",
    "    params['secosw1'] = radvel.Parameter(value=0.01)\n",
    "    params['sesinw1'] = radvel.Parameter(value=0.01)\n",
    "    params['logk1'] = radvel.Parameter(value=1)\n",
    "    mod = radvel.RVModel(params, time_base=time_base)\n",
    "    return mod"
   ]
  },
  {
   "attachments": {},
   "cell_type": "markdown",
   "id": "1122676f",
   "metadata": {},
   "source": [
    "## Determine which values to fit\n",
    "\n",
    "For simplicity, we will fix the period, so we are not fitting for it. We also will fix $\\sqrt{e}\\sin(\\omega)$ and $\\sqrt{e}\\cos(\\omega)$ to nearly 0, which results in a nearly circular orbit. If your planet is known to be eccentric, you should let these parameters vary instead. We will obviously vary the RV semi-amplitude so we can measure the mass. "
   ]
  },
  {
   "cell_type": "code",
   "execution_count": null,
   "id": "3c6bc217",
   "metadata": {},
   "outputs": [],
   "source": [
    "mod = initialize_model()\n",
    "like = radvel.likelihood.RVLikelihood(mod, t, vel, errvel)\n",
    "like.params['gamma'] = radvel.Parameter(value=0.1)\n",
    "like.params['jit'] = radvel.Parameter(value=1.0)\n",
    "\n",
    "like.params['secosw1'].vary = False\n",
    "like.params['sesinw1'].vary = False\n",
    "like.params['per1'].vary = False\n",
    "like.params['tc1'].vary = True\n",
    "print(like)"
   ]
  },
  {
   "attachments": {},
   "cell_type": "markdown",
   "id": "0a8f1072",
   "metadata": {},
   "source": [
    "# Perform a simple optimization fit\n",
    "\n",
    "This will give us some maximum-likelihood values for the RV semi-amplitude. The output that gets printed from this cell lists all the parameters for the model, and tells you which were varied in the optimization. "
   ]
  },
  {
   "cell_type": "code",
   "execution_count": null,
   "id": "906346d8",
   "metadata": {},
   "outputs": [],
   "source": [
    "post = radvel.posterior.Posterior(like)\n",
    "\n",
    "res  = optimize.minimize(\n",
    "    post.neglogprob_array,     # objective function is negative log likelihood\n",
    "    post.get_vary_params(),    # initial variable parameters\n",
    "    method='Powell',           # Nelder-Mead also works\n",
    "    )\n",
    "             # plot best fit model\n",
    "print(post)"
   ]
  },
  {
   "attachments": {},
   "cell_type": "markdown",
   "id": "3b054dcf",
   "metadata": {},
   "source": [
    "# Plot the orbital fit\n",
    "\n",
    "We will plot both the regular fit in time, and the phase-folded fit. The plot will also list the best-fit parameter for the RV semi-amplitude. "
   ]
  },
  {
   "cell_type": "code",
   "execution_count": null,
   "id": "30ea9127",
   "metadata": {},
   "outputs": [],
   "source": [
    "post.params['dvdt'] = radvel.Parameter(value=0)\n",
    "post.params['curv'] = radvel.Parameter(value=0)\n",
    "\n",
    "RVPlot = orbit_plots.MultipanelPlot(post)\n",
    "\n",
    "RVPlot.plot_multipanel()"
   ]
  }
 ],
 "metadata": {
  "kernelspec": {
   "display_name": "Python 3 (ipykernel)",
   "language": "python",
   "name": "python3"
  },
  "language_info": {
   "codemirror_mode": {
    "name": "ipython",
    "version": 3
   },
   "file_extension": ".py",
   "mimetype": "text/x-python",
   "name": "python",
   "nbconvert_exporter": "python",
   "pygments_lexer": "ipython3",
   "version": "3.9.1"
  }
 },
 "nbformat": 4,
 "nbformat_minor": 5
}
