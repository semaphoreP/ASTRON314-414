{
 "cells": [
  {
   "cell_type": "markdown",
   "id": "d568a5b5",
   "metadata": {},
   "source": [
    "# Radial Velocity Measurements of Exoplanets"
   ]
  },
  {
   "cell_type": "code",
   "execution_count": 1,
   "id": "fefc4b3b",
   "metadata": {},
   "outputs": [
    {
     "name": "stdout",
     "output_type": "stream",
     "text": [
      "\u001b[33mWARNING: Ignoring invalid distribution -atplotlib (/home/jwang/miniconda3/lib/python3.9/site-packages)\u001b[0m\n",
      "\u001b[33mWARNING: Ignoring invalid distribution -atplotlib (/home/jwang/miniconda3/lib/python3.9/site-packages)\u001b[0m\n",
      "Requirement already satisfied: radvel in /home/jwang/miniconda3/lib/python3.9/site-packages (1.4.6)\n",
      "Requirement already satisfied: ipykernel>=4.10.0 in /home/jwang/miniconda3/lib/python3.9/site-packages (from radvel) (6.4.1)\n",
      "Requirement already satisfied: dill in /home/jwang/miniconda3/lib/python3.9/site-packages (from radvel) (0.3.3)\n",
      "Requirement already satisfied: matplotlib>=1.5.3 in /home/jwang/miniconda3/lib/python3.9/site-packages (from radvel) (3.7.1)\n",
      "Requirement already satisfied: pandas>=0.20.0 in /home/jwang/miniconda3/lib/python3.9/site-packages (from radvel) (1.5.1)\n",
      "Requirement already satisfied: jinja2>=2.9 in /home/jwang/miniconda3/lib/python3.9/site-packages (from radvel) (2.11.3)\n",
      "Requirement already satisfied: scipy>=0.17 in /home/jwang/miniconda3/lib/python3.9/site-packages (from radvel) (1.8.1)\n",
      "Requirement already satisfied: astropy>=1.1.2 in /home/jwang/miniconda3/lib/python3.9/site-packages (from radvel) (5.1)\n",
      "Requirement already satisfied: nbsphinx>=0.3.3 in /home/jwang/miniconda3/lib/python3.9/site-packages (from radvel) (0.8.5)\n",
      "Requirement already satisfied: jupyter-client>=5.2.4 in /home/jwang/miniconda3/lib/python3.9/site-packages (from radvel) (7.0.6)\n",
      "Requirement already satisfied: corner>=2.0 in /home/jwang/miniconda3/lib/python3.9/site-packages (from radvel) (2.2.1)\n",
      "Requirement already satisfied: python-dateutil>=2.5.0 in /home/jwang/miniconda3/lib/python3.9/site-packages (from radvel) (2.8.2)\n",
      "Requirement already satisfied: emcee>=3.0.2 in /home/jwang/miniconda3/lib/python3.9/site-packages (from radvel) (3.0.2)\n",
      "Requirement already satisfied: numpy>=1.16 in /home/jwang/miniconda3/lib/python3.9/site-packages (from radvel) (1.21.2)\n",
      "Requirement already satisfied: cython>=0.23 in /home/jwang/miniconda3/lib/python3.9/site-packages (from radvel) (0.29.23)\n",
      "Requirement already satisfied: PyYAML>=3.13 in /home/jwang/miniconda3/lib/python3.9/site-packages (from astropy>=1.1.2->radvel) (6.0)\n",
      "Requirement already satisfied: pyerfa>=2.0 in /home/jwang/miniconda3/lib/python3.9/site-packages (from astropy>=1.1.2->radvel) (2.0.0)\n",
      "Requirement already satisfied: packaging>=19.0 in /home/jwang/miniconda3/lib/python3.9/site-packages (from astropy>=1.1.2->radvel) (21.3)\n",
      "Requirement already satisfied: ipython<8.0,>=7.23.1 in /home/jwang/miniconda3/lib/python3.9/site-packages (from ipykernel>=4.10.0->radvel) (7.29.0)\n",
      "Requirement already satisfied: tornado<7.0,>=4.2 in /home/jwang/miniconda3/lib/python3.9/site-packages (from ipykernel>=4.10.0->radvel) (6.1)\n",
      "Requirement already satisfied: matplotlib-inline<0.2.0,>=0.1.0 in /home/jwang/miniconda3/lib/python3.9/site-packages (from ipykernel>=4.10.0->radvel) (0.1.2)\n",
      "Requirement already satisfied: traitlets<6.0,>=4.1.0 in /home/jwang/miniconda3/lib/python3.9/site-packages (from ipykernel>=4.10.0->radvel) (5.1.1)\n",
      "Requirement already satisfied: ipython-genutils in /home/jwang/miniconda3/lib/python3.9/site-packages (from ipykernel>=4.10.0->radvel) (0.2.0)\n",
      "Requirement already satisfied: debugpy<2.0,>=1.0.0 in /home/jwang/miniconda3/lib/python3.9/site-packages (from ipykernel>=4.10.0->radvel) (1.5.1)\n",
      "Requirement already satisfied: pygments in /home/jwang/miniconda3/lib/python3.9/site-packages (from ipython<8.0,>=7.23.1->ipykernel>=4.10.0->radvel) (2.10.0)\n",
      "Requirement already satisfied: setuptools>=18.5 in /home/jwang/miniconda3/lib/python3.9/site-packages (from ipython<8.0,>=7.23.1->ipykernel>=4.10.0->radvel) (65.5.0)\n",
      "Requirement already satisfied: pexpect>4.3 in /home/jwang/miniconda3/lib/python3.9/site-packages (from ipython<8.0,>=7.23.1->ipykernel>=4.10.0->radvel) (4.8.0)\n",
      "Requirement already satisfied: prompt-toolkit!=3.0.0,!=3.0.1,<3.1.0,>=2.0.0 in /home/jwang/miniconda3/lib/python3.9/site-packages (from ipython<8.0,>=7.23.1->ipykernel>=4.10.0->radvel) (3.0.20)\n",
      "Requirement already satisfied: pickleshare in /home/jwang/miniconda3/lib/python3.9/site-packages (from ipython<8.0,>=7.23.1->ipykernel>=4.10.0->radvel) (0.7.5)\n",
      "Requirement already satisfied: decorator in /home/jwang/miniconda3/lib/python3.9/site-packages (from ipython<8.0,>=7.23.1->ipykernel>=4.10.0->radvel) (5.1.0)\n",
      "Requirement already satisfied: jedi>=0.16 in /home/jwang/miniconda3/lib/python3.9/site-packages (from ipython<8.0,>=7.23.1->ipykernel>=4.10.0->radvel) (0.18.0)\n",
      "Requirement already satisfied: backcall in /home/jwang/miniconda3/lib/python3.9/site-packages (from ipython<8.0,>=7.23.1->ipykernel>=4.10.0->radvel) (0.2.0)\n",
      "Requirement already satisfied: parso<0.9.0,>=0.8.0 in /home/jwang/miniconda3/lib/python3.9/site-packages (from jedi>=0.16->ipython<8.0,>=7.23.1->ipykernel>=4.10.0->radvel) (0.8.2)\n",
      "Requirement already satisfied: MarkupSafe>=0.23 in /home/jwang/miniconda3/lib/python3.9/site-packages (from jinja2>=2.9->radvel) (2.0.1)\n",
      "Requirement already satisfied: pyzmq>=13 in /home/jwang/miniconda3/lib/python3.9/site-packages (from jupyter-client>=5.2.4->radvel) (22.3.0)\n",
      "Requirement already satisfied: nest-asyncio>=1.5 in /home/jwang/miniconda3/lib/python3.9/site-packages (from jupyter-client>=5.2.4->radvel) (1.5.1)\n",
      "Requirement already satisfied: jupyter-core>=4.6.0 in /home/jwang/miniconda3/lib/python3.9/site-packages (from jupyter-client>=5.2.4->radvel) (4.9.1)\n",
      "Requirement already satisfied: entrypoints in /home/jwang/miniconda3/lib/python3.9/site-packages (from jupyter-client>=5.2.4->radvel) (0.3)\n",
      "Requirement already satisfied: cycler>=0.10 in /home/jwang/miniconda3/lib/python3.9/site-packages (from matplotlib>=1.5.3->radvel) (0.10.0)\n",
      "Requirement already satisfied: fonttools>=4.22.0 in /home/jwang/miniconda3/lib/python3.9/site-packages (from matplotlib>=1.5.3->radvel) (4.38.0)\n",
      "Requirement already satisfied: kiwisolver>=1.0.1 in /home/jwang/miniconda3/lib/python3.9/site-packages (from matplotlib>=1.5.3->radvel) (1.3.1)\n",
      "Requirement already satisfied: contourpy>=1.0.1 in /home/jwang/miniconda3/lib/python3.9/site-packages (from matplotlib>=1.5.3->radvel) (1.0.6)\n",
      "Requirement already satisfied: importlib-resources>=3.2.0 in /home/jwang/miniconda3/lib/python3.9/site-packages (from matplotlib>=1.5.3->radvel) (5.12.0)\n",
      "Requirement already satisfied: pillow>=6.2.0 in /home/jwang/miniconda3/lib/python3.9/site-packages (from matplotlib>=1.5.3->radvel) (9.2.0)\n",
      "Requirement already satisfied: pyparsing>=2.3.1 in /home/jwang/miniconda3/lib/python3.9/site-packages (from matplotlib>=1.5.3->radvel) (3.0.4)\n",
      "Requirement already satisfied: six in /home/jwang/miniconda3/lib/python3.9/site-packages (from cycler>=0.10->matplotlib>=1.5.3->radvel) (1.16.0)\n",
      "Requirement already satisfied: zipp>=3.1.0 in /home/jwang/miniconda3/lib/python3.9/site-packages (from importlib-resources>=3.2.0->matplotlib>=1.5.3->radvel) (3.6.0)\n",
      "Requirement already satisfied: nbformat in /home/jwang/miniconda3/lib/python3.9/site-packages (from nbsphinx>=0.3.3->radvel) (5.1.3)\n",
      "Requirement already satisfied: sphinx>=1.8 in /home/jwang/miniconda3/lib/python3.9/site-packages (from nbsphinx>=0.3.3->radvel) (3.5.3)\n",
      "Requirement already satisfied: docutils in /home/jwang/miniconda3/lib/python3.9/site-packages (from nbsphinx>=0.3.3->radvel) (0.16)\n",
      "Requirement already satisfied: nbconvert!=5.4 in /home/jwang/miniconda3/lib/python3.9/site-packages (from nbsphinx>=0.3.3->radvel) (6.1.0)\n",
      "Requirement already satisfied: pandocfilters>=1.4.1 in /home/jwang/miniconda3/lib/python3.9/site-packages (from nbconvert!=5.4->nbsphinx>=0.3.3->radvel) (1.4.3)\n",
      "Requirement already satisfied: mistune<2,>=0.8.1 in /home/jwang/miniconda3/lib/python3.9/site-packages (from nbconvert!=5.4->nbsphinx>=0.3.3->radvel) (0.8.4)\n",
      "Requirement already satisfied: testpath in /home/jwang/miniconda3/lib/python3.9/site-packages (from nbconvert!=5.4->nbsphinx>=0.3.3->radvel) (0.5.0)\n",
      "Requirement already satisfied: defusedxml in /home/jwang/miniconda3/lib/python3.9/site-packages (from nbconvert!=5.4->nbsphinx>=0.3.3->radvel) (0.7.1)\n",
      "Requirement already satisfied: nbclient<0.6.0,>=0.5.0 in /home/jwang/miniconda3/lib/python3.9/site-packages (from nbconvert!=5.4->nbsphinx>=0.3.3->radvel) (0.5.3)\n",
      "Requirement already satisfied: jupyterlab-pygments in /home/jwang/miniconda3/lib/python3.9/site-packages (from nbconvert!=5.4->nbsphinx>=0.3.3->radvel) (0.1.2)\n",
      "Requirement already satisfied: bleach in /home/jwang/miniconda3/lib/python3.9/site-packages (from nbconvert!=5.4->nbsphinx>=0.3.3->radvel) (4.0.0)\n"
     ]
    },
    {
     "name": "stdout",
     "output_type": "stream",
     "text": [
      "Requirement already satisfied: async-generator in /home/jwang/miniconda3/lib/python3.9/site-packages (from nbclient<0.6.0,>=0.5.0->nbconvert!=5.4->nbsphinx>=0.3.3->radvel) (1.10)\n",
      "Requirement already satisfied: jsonschema!=2.5.0,>=2.4 in /home/jwang/miniconda3/lib/python3.9/site-packages (from nbformat->nbsphinx>=0.3.3->radvel) (3.2.0)\n",
      "Requirement already satisfied: pyrsistent>=0.14.0 in /home/jwang/miniconda3/lib/python3.9/site-packages (from jsonschema!=2.5.0,>=2.4->nbformat->nbsphinx>=0.3.3->radvel) (0.18.0)\n",
      "Requirement already satisfied: attrs>=17.4.0 in /home/jwang/miniconda3/lib/python3.9/site-packages (from jsonschema!=2.5.0,>=2.4->nbformat->nbsphinx>=0.3.3->radvel) (21.2.0)\n",
      "Requirement already satisfied: pytz>=2020.1 in /home/jwang/miniconda3/lib/python3.9/site-packages (from pandas>=0.20.0->radvel) (2021.1)\n",
      "Requirement already satisfied: ptyprocess>=0.5 in /home/jwang/miniconda3/lib/python3.9/site-packages (from pexpect>4.3->ipython<8.0,>=7.23.1->ipykernel>=4.10.0->radvel) (0.7.0)\n",
      "Requirement already satisfied: wcwidth in /home/jwang/miniconda3/lib/python3.9/site-packages (from prompt-toolkit!=3.0.0,!=3.0.1,<3.1.0,>=2.0.0->ipython<8.0,>=7.23.1->ipykernel>=4.10.0->radvel) (0.2.5)\n",
      "Requirement already satisfied: snowballstemmer>=1.1 in /home/jwang/miniconda3/lib/python3.9/site-packages (from sphinx>=1.8->nbsphinx>=0.3.3->radvel) (2.1.0)\n",
      "Requirement already satisfied: sphinxcontrib-serializinghtml in /home/jwang/miniconda3/lib/python3.9/site-packages (from sphinx>=1.8->nbsphinx>=0.3.3->radvel) (1.1.4)\n",
      "Requirement already satisfied: alabaster<0.8,>=0.7 in /home/jwang/miniconda3/lib/python3.9/site-packages (from sphinx>=1.8->nbsphinx>=0.3.3->radvel) (0.7.12)\n",
      "Requirement already satisfied: sphinxcontrib-applehelp in /home/jwang/miniconda3/lib/python3.9/site-packages (from sphinx>=1.8->nbsphinx>=0.3.3->radvel) (1.0.2)\n",
      "Requirement already satisfied: imagesize in /home/jwang/miniconda3/lib/python3.9/site-packages (from sphinx>=1.8->nbsphinx>=0.3.3->radvel) (1.2.0)\n",
      "Requirement already satisfied: sphinxcontrib-jsmath in /home/jwang/miniconda3/lib/python3.9/site-packages (from sphinx>=1.8->nbsphinx>=0.3.3->radvel) (1.0.1)\n",
      "Requirement already satisfied: babel>=1.3 in /home/jwang/miniconda3/lib/python3.9/site-packages (from sphinx>=1.8->nbsphinx>=0.3.3->radvel) (2.9.1)\n",
      "Requirement already satisfied: sphinxcontrib-htmlhelp in /home/jwang/miniconda3/lib/python3.9/site-packages (from sphinx>=1.8->nbsphinx>=0.3.3->radvel) (1.0.3)\n",
      "Requirement already satisfied: requests>=2.5.0 in /home/jwang/miniconda3/lib/python3.9/site-packages (from sphinx>=1.8->nbsphinx>=0.3.3->radvel) (2.26.0)\n",
      "Requirement already satisfied: sphinxcontrib-qthelp in /home/jwang/miniconda3/lib/python3.9/site-packages (from sphinx>=1.8->nbsphinx>=0.3.3->radvel) (1.0.3)\n",
      "Requirement already satisfied: sphinxcontrib-devhelp in /home/jwang/miniconda3/lib/python3.9/site-packages (from sphinx>=1.8->nbsphinx>=0.3.3->radvel) (1.0.2)\n",
      "Requirement already satisfied: charset-normalizer~=2.0.0 in /home/jwang/miniconda3/lib/python3.9/site-packages (from requests>=2.5.0->sphinx>=1.8->nbsphinx>=0.3.3->radvel) (2.0.4)\n",
      "Requirement already satisfied: idna<4,>=2.5 in /home/jwang/miniconda3/lib/python3.9/site-packages (from requests>=2.5.0->sphinx>=1.8->nbsphinx>=0.3.3->radvel) (3.3)\n",
      "Requirement already satisfied: urllib3<1.27,>=1.21.1 in /home/jwang/miniconda3/lib/python3.9/site-packages (from requests>=2.5.0->sphinx>=1.8->nbsphinx>=0.3.3->radvel) (1.26.7)\n",
      "Requirement already satisfied: certifi>=2017.4.17 in /home/jwang/miniconda3/lib/python3.9/site-packages (from requests>=2.5.0->sphinx>=1.8->nbsphinx>=0.3.3->radvel) (2021.10.8)\n",
      "Requirement already satisfied: webencodings in /home/jwang/miniconda3/lib/python3.9/site-packages (from bleach->nbconvert!=5.4->nbsphinx>=0.3.3->radvel) (0.5.1)\n",
      "\u001b[33mWARNING: Ignoring invalid distribution -atplotlib (/home/jwang/miniconda3/lib/python3.9/site-packages)\u001b[0m\n",
      "\u001b[33mWARNING: Ignoring invalid distribution -atplotlib (/home/jwang/miniconda3/lib/python3.9/site-packages)\u001b[0m\n",
      "\u001b[33mWARNING: Ignoring invalid distribution -atplotlib (/home/jwang/miniconda3/lib/python3.9/site-packages)\u001b[0m\n",
      "\u001b[33mWARNING: Ignoring invalid distribution -atplotlib (/home/jwang/miniconda3/lib/python3.9/site-packages)\u001b[0m\n"
     ]
    }
   ],
   "source": [
    "!pip install radvel"
   ]
  },
  {
   "cell_type": "code",
   "execution_count": 86,
   "id": "4e608f2e",
   "metadata": {},
   "outputs": [],
   "source": [
    "# Required packages for setup\n",
    "import os\n",
    "import copy\n",
    "import pandas as pd\n",
    "import numpy as np\n",
    "import scipy.optimize as optimize\n",
    "import radvel\n",
    "from radvel.plot import orbit_plots\n",
    "import matplotlib.pylab as plt\n",
    "%matplotlib inline\n"
   ]
  },
  {
   "cell_type": "code",
   "execution_count": 59,
   "id": "f0213e78",
   "metadata": {},
   "outputs": [
    {
     "name": "stdout",
     "output_type": "stream",
     "text": [
      "           time  mnvel  errvel\n",
      "0   2455074.878   4.06     1.6\n",
      "1   2455075.773   6.86     1.5\n",
      "2   2455076.863   0.40     1.5\n",
      "3   2455077.923  -6.36     1.5\n",
      "4   2455078.922   1.76     1.7\n",
      "5   2455079.973  -2.41     1.7\n",
      "6   2455080.896   5.34     1.5\n",
      "7   2455081.969  -7.16     1.5\n",
      "8   2455082.848  -8.50     1.5\n",
      "9   2455083.761   3.27     1.4\n",
      "10  2455083.945  -2.27     1.6\n",
      "11  2455084.878   1.17     1.4\n",
      "12  2455106.890  -0.14     1.7\n",
      "13  2455169.725   1.58     0.9\n",
      "14  2455170.725  -3.00     1.1\n",
      "15  2455172.756   5.05     1.6\n",
      "16  2455173.721   4.90     1.1\n",
      "17  2455312.047  -2.68     1.6\n",
      "18  2455313.004  -5.29     1.5\n",
      "19  2455314.005  -9.82     1.6\n",
      "20  2455317.998   3.92     1.7\n",
      "21  2455318.121  -0.70     1.5\n",
      "22  2455319.027  -5.43     1.6\n",
      "23  2455320.063   1.44     1.5\n",
      "24  2455321.007   0.97     1.6\n",
      "25  2455321.969   1.61     1.5\n",
      "26  2455343.050  -4.01     1.5\n",
      "27  2455344.032  -4.93     1.5\n",
      "28  2455344.973  -4.08     1.3\n",
      "29  2455345.068  -2.08     1.7\n",
      "30  2455350.973   0.56     1.6\n",
      "31  2455351.988   0.88     1.4\n",
      "32  2455373.814  -0.19     1.6\n",
      "33  2455376.865  -0.38     1.4\n",
      "34  2455379.902   1.78     1.7\n",
      "35  2455403.898   0.66     1.4\n",
      "36  2455407.013  -3.80     1.5\n",
      "37  2455411.986  -3.83     1.4\n",
      "38  2455412.805  -4.36     1.2\n",
      "39  2455414.803  -1.20     1.5\n"
     ]
    }
   ],
   "source": [
    "# def initialize_model():\n",
    "#     time_base = 2456778\n",
    "#     params = radvel.Parameters(1,basis='per tc secosw sesinw logk') # number of planets = 1\n",
    "#     params['per1'] = radvel.Parameter(value=0.83753)\n",
    "#     params['tc1'] = radvel.Parameter(value=2454964)\n",
    "#     params['secosw1'] = radvel.Parameter(value=0.01)\n",
    "#     params['sesinw1'] = radvel.Parameter(value=0.01)\n",
    "#     params['logk1'] = radvel.Parameter(value=np.log(3))\n",
    "#     mod = radvel.RVModel(params, time_base=time_base)\n",
    "#     mod.params['dvdt'] = radvel.Parameter(value=0.00)\n",
    "#     mod.params['curv'] = radvel.Parameter(value=0.00)\n",
    "#     return mod\n",
    "\n",
    "\n",
    "\n",
    "# # Define global planetary system and dataset parameters\n",
    "# starname = 'Kepler-10'\n",
    "# nplanets = 1    # number of planets in the system\n",
    "# instnames = ['k']    # list of instrument names. Can be whatever you like (no spaces) but should match 'tel' column in the input file.\n",
    "# ntels = 1       # number of instruments with unique velocity zero-points\n",
    "# fitting_basis = 'per tc secosw sesinw logk'    # Fitting basis, see radvel.basis.BASIS_NAMES for available basis names\n",
    "# bjd0 = 0   # reference epoch for RV timestamps (i.e. this number has been subtracted off your timestamps)\n",
    "# planet_letters = {1: 'b'}   # map the numbers in the Parameters keys to planet letters (for plotting and tables)\n",
    "\n",
    "\n",
    "# # Define prior centers (initial guesses) in a basis of your choice (need not be in the fitting basis)\n",
    "# anybasis_params = radvel.Parameters(nplanets,basis='per tc e w k', planet_letters=planet_letters)    # initialize Parameters object\n",
    "\n",
    "# anybasis_params['per1'] = radvel.Parameter(value=0.83753)      # period of 1st planet\n",
    "# anybasis_params['tc1'] = radvel.Parameter(value=2454964)     # time of inferior conjunction of 1st planet\n",
    "# anybasis_params['e1'] = radvel.Parameter(value=0.01)          # eccentricity of 1st planet\n",
    "# anybasis_params['w1'] = radvel.Parameter(value=np.pi/2.)      # argument of periastron of the star's orbit for 1st planet\n",
    "# anybasis_params['k1'] = radvel.Parameter(value=3.3)          # velocity semi-amplitude for 1st planet\n",
    "\n",
    "# time_base = 2456778          # abscissa for slope and curvature terms (should be near mid-point of time baseline)\n",
    "# anybasis_params['dvdt'] = radvel.Parameter(value=0.0)         # slope: (If rv is m/s and time is days then [dvdt] is m/s/day)\n",
    "# anybasis_params['curv'] = radvel.Parameter(value=0.0)        # curvature: (If rv is m/s and time is days then [curv] is m/s/day^2)\n",
    "\n",
    "# # analytically calculate gamma if vary=False and linear=True\n",
    "# anybasis_params['gamma_k'] = radvel.Parameter(value=0.0)       # velocity zero-point for hires_rk\n",
    "\n",
    "# anybasis_params['jit_k'] = radvel.Parameter(value=2.6)        # jitter for hires_rk\n",
    "\n",
    "# # Convert input orbital parameters into the fitting basis\n",
    "# params = anybasis_params.basis.to_any_basis(anybasis_params,fitting_basis)\n",
    "\n",
    "# # Set the 'vary' attributes of each of the parameters in the fitting basis. A parameter's 'vary' attribute should\n",
    "# # be set to False if you wish to hold it fixed during the fitting process. By default, all 'vary' parameters\n",
    "# # are set to True.\n",
    "# params['dvdt'].vary = False\n",
    "# params['curv'].vary = False\n",
    "\n",
    "# rv_mod = radvel.RVModel(params)\n",
    "\n",
    "# Load radial velocity data, in this example the data is contained in\n",
    "# an ASCII file, must have 'time', 'mnvel', 'errvel', and 'tel' keys\n",
    "# the velocities are expected to be in m/s\n",
    "data = pd.read_csv(\"kepler10_rvs.txt\", sep=' ')\n",
    "t = np.array(data['time'])\n",
    "vel = np.array(data['mnvel'])\n",
    "errvel = data['errvel']\n",
    "ti = np.linspace(data['time'].iloc[0]-5,data['time'].iloc[-1]+5,1000)\n",
    "\n",
    "print(data)\n",
    "\n",
    "# # Define prior shapes and widths here.\n",
    "# priors = [\n",
    "#     radvel.prior.EccentricityPrior( nplanets ),           # Keeps eccentricity < 1\n",
    "#     radvel.prior.Gaussian('tc1', params['tc1'].value, 300.0),    # Gaussian prior on tc1 with center at tc1 and width 300 days\n",
    "#     radvel.prior.HardBounds('jit_k', 0.0, 10.0),\n",
    "# ]\n",
    "\n",
    "\n",
    "# # optional argument that can contain stellar mass in solar units (mstar) and\n",
    "# # uncertainty (mstar_err). If not set, mstar will be set to nan.\n",
    "# stellar = dict(mstar=0.874, mstar_err=0.012)\n"
   ]
  },
  {
   "cell_type": "code",
   "execution_count": 90,
   "id": "cbfc929c",
   "metadata": {},
   "outputs": [],
   "source": [
    "#Some conveinence functions\n",
    "def initialize_model():\n",
    "    time_base = 2456778\n",
    "    params = radvel.Parameters(1,basis='per tc secosw sesinw logk')\n",
    "    params['per1'] = radvel.Parameter(value=0.83753)\n",
    "    params['tc1'] = radvel.Parameter(value=2456778 + 1)\n",
    "    params['secosw1'] = radvel.Parameter(value=0.01)\n",
    "    params['sesinw1'] = radvel.Parameter(value=0.01)\n",
    "    params['logk1'] = radvel.Parameter(value=1)\n",
    "    mod = radvel.RVModel(params, time_base=time_base)\n",
    "    return mod"
   ]
  },
  {
   "cell_type": "code",
   "execution_count": 91,
   "id": "3c6bc217",
   "metadata": {},
   "outputs": [
    {
     "name": "stdout",
     "output_type": "stream",
     "text": [
      "parameter                     value      vary\n",
      "per1                        0.83753      False\n",
      "tc1                               1       True\n",
      "secosw1                        0.01      False\n",
      "sesinw1                        0.01      False\n",
      "logk1                             1       True\n",
      "gamma                           0.1       True\n",
      "jit                               1       True\n",
      "tp1                        0.895346           \n",
      "e1                           0.0002           \n",
      "w1                         0.785398           \n",
      "k1                          2.71828           \n",
      "\n"
     ]
    }
   ],
   "source": [
    "mod = initialize_model()\n",
    "like = radvel.likelihood.RVLikelihood(mod, t, vel, errvel)\n",
    "like.params['gamma'] = radvel.Parameter(value=0.1)\n",
    "like.params['jit'] = radvel.Parameter(value=1.0)\n",
    "\n",
    "like.params['secosw1'].vary = False\n",
    "like.params['sesinw1'].vary = False\n",
    "like.params['per1'].vary = False\n",
    "like.params['tc1'].vary = True\n",
    "print(like)"
   ]
  },
  {
   "cell_type": "code",
   "execution_count": 92,
   "id": "f0adb28e",
   "metadata": {},
   "outputs": [],
   "source": [
    "post = radvel.posterior.Posterior(like)\n",
    "# post.priors += [radvel.prior.Gaussian( 'jit', np.log(3), 0.5)]\n",
    "# post.priors += [radvel.prior.Gaussian( 'logk1', np.log(3), 10)]\n",
    "# post.priors += [radvel.prior.Gaussian( 'gamma', 0, 10)]"
   ]
  },
  {
   "cell_type": "code",
   "execution_count": 93,
   "id": "906346d8",
   "metadata": {},
   "outputs": [
    {
     "name": "stdout",
     "output_type": "stream",
     "text": [
      "parameter                     value      vary\n",
      "per1                        0.83753      False\n",
      "tc1                          1.4646       True\n",
      "secosw1                        0.01      False\n",
      "sesinw1                        0.01      False\n",
      "logk1                       1.19969       True\n",
      "gamma                     -0.642983       True\n",
      "jit                         2.57634       True\n",
      "tp1                         1.35994           \n",
      "e1                           0.0002           \n",
      "w1                         0.785398           \n",
      "k1                          3.31909           \n",
      "\n",
      "Priors\n",
      "------\n",
      "\n"
     ]
    }
   ],
   "source": [
    "res  = optimize.minimize(\n",
    "    post.neglogprob_array,     # objective function is negative log likelihood\n",
    "    post.get_vary_params(),    # initial variable parameters\n",
    "    method='Powell',           # Nelder-Mead also works\n",
    "    )\n",
    "             # plot best fit model\n",
    "print(post)"
   ]
  },
  {
   "cell_type": "code",
   "execution_count": 94,
   "id": "30ea9127",
   "metadata": {},
   "outputs": [
    {
     "name": "stderr",
     "output_type": "stream",
     "text": [
      "No artists with labels found to put in legend.  Note that artists whose label start with an underscore are ignored when legend() is called with no argument.\n"
     ]
    },
    {
     "data": {
      "text/plain": [
       "(<Figure size 540x555.429 with 4 Axes>,\n",
       " [<Axes: ylabel='RV [m s$^{\\\\mathregular{-1}}$]'>,\n",
       "  <Axes: xlabel='JD - 2450000', ylabel='Residuals'>,\n",
       "  <Axes: xlabel='Phase', ylabel='RV [m s$^{\\\\mathregular{-1}}$]'>])"
      ]
     },
     "execution_count": 94,
     "metadata": {},
     "output_type": "execute_result"
    },
    {
     "data": {
      "image/png": "[encoded data removed]",
      "text/plain": [
       "<Figure size 540x555.429 with 4 Axes>"
      ]
     },
     "metadata": {
      "needs_background": "light"
     },
     "output_type": "display_data"
    }
   ],
   "source": [
    "post.params['dvdt'] = radvel.Parameter(value=0)\n",
    "post.params['curv'] = radvel.Parameter(value=0)\n",
    "\n",
    "RVPlot = orbit_plots.MultipanelPlot(post)\n",
    "\n",
    "RVPlot.plot_multipanel()"
   ]
  },
  {
   "cell_type": "code",
   "execution_count": null,
   "id": "ed1e0d79",
   "metadata": {},
   "outputs": [],
   "source": []
  }
 ],
 "metadata": {
  "kernelspec": {
   "display_name": "Python 3 (ipykernel)",
   "language": "python",
   "name": "python3"
  },
  "language_info": {
   "codemirror_mode": {
    "name": "ipython",
    "version": 3
   },
   "file_extension": ".py",
   "mimetype": "text/x-python",
   "name": "python",
   "nbconvert_exporter": "python",
   "pygments_lexer": "ipython3",
   "version": "3.9.1"
  }
 },
 "nbformat": 4,
 "nbformat_minor": 5
}
