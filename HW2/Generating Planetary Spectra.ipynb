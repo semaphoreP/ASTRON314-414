{
 "cells": [
  {
   "cell_type": "markdown",
   "id": "e4fa4411",
   "metadata": {},
   "source": [
    "# Problem 4 (for ASTRON 441 Students)\n",
    "\n",
    "You will need to install picaso on your own machines following the [install instructions here](https://natashabatalha.github.io/picaso/installation.html). Note that you will need to download auxiliary files totaling around 6 GB. I recommend you follow the instructions in the link above, but if you are lazy, you can probably get away with running the code below. You will need to run the code below if you run this in Google Colab (note that in Colab, the downloading of files may take >= 1 hour depending on network traffic). "
   ]
  },
  {
   "cell_type": "code",
   "execution_count": null,
   "id": "d0595524",
   "metadata": {},
   "outputs": [],
   "source": [
    "!pip install picaso\n",
    "!git clone https://github.com/natashabatalha/picaso.git\n",
    "!wget -O picaso/reference/opacities/opacities.db https://zenodo.org/record/3759675/files/opacities.db?download=1 \n",
    "\n",
    "!wget http://ssb.stsci.edu/trds/tarfiles/synphot3.tar.gz\n",
    "!tar -xvf synphot3.tar.gz \n",
    "!mv grp/redcat/trds/grid grid\n",
    "\n",
    "import os\n",
    "os.environ['picaso_refdata'] = os.path.join(os.getcwd(), 'picaso', 'reference')\n",
    "os.environ['PYSYN_CDBS'] = os.getcwd()\n",
    "print(os.environ['picaso_refdata'])"
   ]
  },
  {
   "cell_type": "markdown",
   "id": "987c3584",
   "metadata": {},
   "source": [
    "We also need to download a few other auxiliary files for this assignment. Step 1: we need to download [these Sonora models](https://zenodo.org/record/1309035/files/profile.tar?download=1), untar them, stick them in a folder, and set a variable to point to that folder. "
   ]
  },
  {
   "cell_type": "code",
   "execution_count": null,
   "id": "10fcdf9f",
   "metadata": {},
   "outputs": [],
   "source": [
    "!wget -O $picaso_refdata/sonora_profile.tar https://zenodo.org/record/1309035/files/profile.tar?download=1\n",
    "!mkdir $picaso_refdata/sonora_profile\n",
    "!tar -xvf $picaso_refdata/sonora_profile.tar -C $picaso_refdata/sonora_profile\n",
    "import os\n",
    "sonora_profile_db = os.path.join(os.environ['picaso_refdata'], 'sonora_profile')"
   ]
  },
  {
   "cell_type": "markdown",
   "id": "3cf3247e",
   "metadata": {},
   "source": [
    "Next we need to download [these cloud opacity files](https://zenodo.org/record/3992294/files/virga.zip?download=1), unzip them, stick them in a folder, and set a variable to point to that folder. "
   ]
  },
  {
   "cell_type": "code",
   "execution_count": null,
   "id": "21a2f751",
   "metadata": {},
   "outputs": [],
   "source": [
    "!wget -O $picaso_refdata/virga.zip https://zenodo.org/record/3992294/files/virga.zip?download=1\n",
    "!mkdir $picaso_refdata/virga\n",
    "!unzip $picaso_refdata/virga.zip -d $picaso_refdata/virga\n",
    "import os\n",
    "virga_dir = os.path.join(os.environ['picaso_refdata'], 'virga','virga_1e-7')"
   ]
  },
  {
   "cell_type": "markdown",
   "id": "643256d1",
   "metadata": {},
   "source": [
    "# Skip to here once you are done installing\n",
    "\n",
    "Import packages"
   ]
  },
  {
   "cell_type": "code",
   "execution_count": null,
   "id": "1fd78421",
   "metadata": {},
   "outputs": [],
   "source": [
    "import numpy as np\n",
    "import picaso\n",
    "import matplotlib.pylab as plt\n",
    "%matplotlib inline"
   ]
  },
  {
   "cell_type": "code",
   "execution_count": null,
   "id": "65a7b8ec",
   "metadata": {},
   "outputs": [],
   "source": [
    "import warnings\n",
    "warnings.filterwarnings('ignore')\n",
    "#picaso\n",
    "from picaso import justdoit as jdi\n",
    "from picaso import justplotit as jpi\n",
    "\n",
    "#plotting\n",
    "jpi.output_notebook()"
   ]
  },
  {
   "cell_type": "markdown",
   "id": "140310ca",
   "metadata": {},
   "source": [
    "# Define Planetary Parameters Here\n"
   ]
  },
  {
   "cell_type": "code",
   "execution_count": null,
   "id": "344e2916",
   "metadata": {},
   "outputs": [],
   "source": [
    "# define bulk planet properties here\n",
    "planet_temp = 1400\n",
    "cloudy = False"
   ]
  },
  {
   "cell_type": "markdown",
   "id": "e0ea2765",
   "metadata": {},
   "source": [
    "# Simulate Spectra"
   ]
  },
  {
   "cell_type": "code",
   "execution_count": null,
   "id": "9d8cd654",
   "metadata": {},
   "outputs": [],
   "source": [
    "# load opacity database\n",
    "opa = jdi.opannection(wave_range=[1,5])\n",
    "\n",
    "# create a new case to simulate\n",
    "case1 = jdi.inputs()\n",
    "\n",
    "case1.phase_angle(0) # we are not dealing with reflected light, so we can skip this\n",
    "\n",
    "# here we are going to have to specify gravity through R and M since we need it in the Flux calc\n",
    "case1.gravity(mass=1, mass_unit=jdi.u.Unit('M_jup'),\n",
    "              radius=1., radius_unit=jdi.u.Unit('R_jup'))\n",
    "\n",
    "# set the star so the code doesn't crash. We are doing thermal emission spectra and don't actually use the star in any way.\n",
    "case1.star(opa, 5800,0.0122,4.437,radius=1, radius_unit = jdi.u.Unit('R_sun') )\n",
    "\n",
    "# load in the atmospheric parameters given the effective temperature we chose\n",
    "# someone did all the hard work to figure this out already\n",
    "case1.sonora(sonora_profile_db,  planet_temp)\n",
    "\n",
    "# if cloudy, turn on clousd\n",
    "if cloudy:\n",
    "    metallicity = 1 #1xSolar\n",
    "    mean_molecular_weight = 2.2\n",
    "    fsed=1\n",
    "    gas_condensates = ['H2O','MnS','Mg2SiO4','Al2O3']\n",
    "\n",
    "    #for the cloud code we have to supply a kzz value, which describes the degree of mixing\n",
    "    p=case1.inputs['atmosphere']['profile']['pressure']\n",
    "    case1.inputs['atmosphere']['profile']['kz'] = [1e9]*len(p)\n",
    "\n",
    "    case1.virga(gas_condensates, virga_dir, fsed=fsed,mh=metallicity,\n",
    "                 mmw = mean_molecular_weight,full_output=True)\n",
    "\n",
    "# simulate the spectrum and store in a dataframe\n",
    "df = case1.spectrum(opa, full_output=True,calculation='thermal')\n",
    "\n",
    "# pull out some useful parameters\n",
    "wno, fpfs , fp = df['wavenumber'] , df['fpfs_thermal'], df['thermal']\n",
    "wno_bin, fpfs_bin = jdi.mean_regrid(wno, fpfs, R=500) # downsample the spectrum\n",
    "wno_bin, fp_bin = jdi.mean_regrid(wno, fp, R=500) # downsample the spectrum\n",
    "full_output = df['full_output']"
   ]
  },
  {
   "cell_type": "markdown",
   "id": "3fd092e6",
   "metadata": {},
   "source": [
    "# Produce plots\n",
    "\n",
    "Use these plots to answer your homework. "
   ]
  },
  {
   "cell_type": "code",
   "execution_count": null,
   "id": "b375a9b6",
   "metadata": {},
   "outputs": [],
   "source": [
    "# Left: plot the pressure vs mixing ratio for various constitutents in the atmosphere\n",
    "# Right: plot the pressure-temperature profile\n",
    "\n",
    "jpi.show(jpi.row(\n",
    "    jpi.mixing_ratio(full_output, plot_height=500, limit=10),\n",
    "    jpi.pt(full_output, plot_height=500)))"
   ]
  },
  {
   "cell_type": "code",
   "execution_count": null,
   "id": "7a68cebc",
   "metadata": {},
   "outputs": [],
   "source": [
    "# Plot the actual spectrum. Zoom in to look at features carefully! \n",
    "\n",
    "jpi.show(jpi.spectrum(wno_bin,fp_bin,plot_width=500))"
   ]
  },
  {
   "cell_type": "code",
   "execution_count": null,
   "id": "d0fc1b62",
   "metadata": {
    "scrolled": false
   },
   "outputs": [],
   "source": [
    "# Plot the pressure correspoding to tau=1 for photons that interact with each individual species only! \n",
    "# The deeper the tau=1 surface, the less absorption there is from that species at that wavelength. \n",
    "\n",
    "contributors = jdi.get_contribution(case1, opa, at_tau=1)\n",
    "\n",
    "contrib_species = contributors['tau_p_surface'].keys()\n",
    "\n",
    "wno=[]\n",
    "spec=[]\n",
    "labels=[]\n",
    "for j in contrib_species:\n",
    "    x,y = jdi.mean_regrid(opa.wno, contributors['tau_p_surface'][j], R=500)\n",
    "    if np.min(y)<5: # Bars\n",
    "        wno+=[x]\n",
    "        spec+=[y]\n",
    "        labels +=[j]\n",
    "        \n",
    "fig = jpi.spectrum(wno,spec,plot_width=600,plot_height=350,y_axis_label='Tau~1 Pressure (bars)',\n",
    "                   y_axis_type='log',x_range=[1,5],\n",
    "                     y_range=[1e2,1e-4],legend=labels)\n",
    "\n",
    "jpi.show(fig)"
   ]
  },
  {
   "cell_type": "code",
   "execution_count": null,
   "id": "21383dcb",
   "metadata": {},
   "outputs": [],
   "source": [
    "# Compare the spectrum with blackbody spectra. \n",
    "# Each blackbody spectrum is labeled with the temperature and the corresponding pressure in the PT profile\n",
    "fig = jpi.flux_at_top(df, pressures=[10,1,0.1],R=500)\n",
    "fig.legend.location='bottom_right'\n",
    "jpi.show(fig)"
   ]
  },
  {
   "cell_type": "code",
   "execution_count": null,
   "id": "94a82879",
   "metadata": {},
   "outputs": [],
   "source": [
    "# For cloudy spectra, this plots the opacity as a function of wavelength and pressure. \n",
    "if cloudy:\n",
    "    fig, ax = plt.subplots(ncols=2,figsize=(15,5))\n",
    "\n",
    "    for it, itau in enumerate(['taugas','taucld']):\n",
    "\n",
    "        tau_bin = []\n",
    "        for i in range(df['full_output'][itau].shape[0]):\n",
    "            x,y = jdi.mean_regrid(df['wavenumber'],\n",
    "                                  df['full_output'][itau][i,:,0], R=150)\n",
    "            tau_bin += [[y]]\n",
    "\n",
    "        tau_bin = np.array(np.log10(tau_bin))[:,0,:]\n",
    "        X,Y = np.meshgrid(1e4/x,df['full_output']['layer']['pressure'])\n",
    "        Z = tau_bin\n",
    "        pcm=ax[it].pcolormesh(X, Y, Z)\n",
    "        cbar=fig.colorbar(pcm, ax=ax[it])\n",
    "        pcm.set_clim(-3.0, 3.0)\n",
    "        ax[it].set_title(itau)\n",
    "        ax[it].set_yscale('log')\n",
    "        ax[it].set_ylim([1e2,1e-3])\n",
    "        ax[it].set_ylabel('Pressure(bars)')\n",
    "        ax[it].set_xlabel('Wavelength(um)')\n",
    "        cbar.set_label('log Opacity')"
   ]
  },
  {
   "cell_type": "code",
   "execution_count": null,
   "id": "08e71c93",
   "metadata": {},
   "outputs": [],
   "source": []
  },
  {
   "cell_type": "code",
   "execution_count": null,
   "id": "5baf7be6",
   "metadata": {},
   "outputs": [],
   "source": []
  }
 ],
 "metadata": {
  "kernelspec": {
   "display_name": "Python 3 (ipykernel)",
   "language": "python",
   "name": "python3"
  },
  "language_info": {
   "codemirror_mode": {
    "name": "ipython",
    "version": 3
   },
   "file_extension": ".py",
   "mimetype": "text/x-python",
   "name": "python",
   "nbconvert_exporter": "python",
   "pygments_lexer": "ipython3",
   "version": "3.9.1"
  }
 },
 "nbformat": 4,
 "nbformat_minor": 5
}
