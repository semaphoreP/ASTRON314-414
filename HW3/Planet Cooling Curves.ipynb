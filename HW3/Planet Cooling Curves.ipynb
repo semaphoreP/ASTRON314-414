{
 "cells": [
  {
   "cell_type": "markdown",
   "id": "152ff2e7",
   "metadata": {},
   "source": [
    "# Problem 4 (for ASTRON 414 students)\n",
    "\n",
    "If you don't have `species` installed or are running the notebook through Google Colab, you need to run the following line first"
   ]
  },
  {
   "cell_type": "code",
   "execution_count": null,
   "id": "576132a3",
   "metadata": {},
   "outputs": [],
   "source": [
    "!pip install cython\n",
    "!pip install species"
   ]
  },
  {
   "cell_type": "markdown",
   "id": "f55f847b",
   "metadata": {},
   "source": [
    "# Import `species` and setup your environment"
   ]
  },
  {
   "cell_type": "code",
   "execution_count": null,
   "id": "c4d989cd",
   "metadata": {},
   "outputs": [],
   "source": [
    "import matplotlib.pyplot as plt\n",
    "import numpy as np\n",
    "import species\n",
    "\n",
    "%matplotlib inline"
   ]
  },
  {
   "cell_type": "code",
   "execution_count": null,
   "id": "c4475b82",
   "metadata": {},
   "outputs": [],
   "source": [
    "species.SpeciesInit()"
   ]
  },
  {
   "cell_type": "markdown",
   "id": "9133cf70",
   "metadata": {},
   "source": [
    "# Download evolutionary model of choice\n",
    "\n",
    "We will use the sonora evolutionary grid, details of which are described in this paper: https://iopscience.iop.org/article/10.3847/1538-4357/ac141d/pdf. "
   ]
  },
  {
   "cell_type": "code",
   "execution_count": null,
   "id": "8f9d7cc5",
   "metadata": {},
   "outputs": [],
   "source": [
    "database = species.Database()"
   ]
  },
  {
   "cell_type": "code",
   "execution_count": null,
   "id": "4559bfa4",
   "metadata": {},
   "outputs": [],
   "source": [
    "database.add_isochrones(model='sonora')"
   ]
  },
  {
   "cell_type": "markdown",
   "id": "b25a3529",
   "metadata": {},
   "source": [
    "# Plot curves of how a planet cools over time\n",
    "\n",
    "We will assume solar composition (the \"+0.0\") in the code below, and look at a Jupiter mass planet (`mass=1`)"
   ]
  },
  {
   "cell_type": "code",
   "execution_count": null,
   "id": "4f6a18de",
   "metadata": {},
   "outputs": [],
   "source": [
    "read_iso = species.ReadIsochrone(tag='sonora+0.0')"
   ]
  },
  {
   "cell_type": "code",
   "execution_count": null,
   "id": "54a7fd1b",
   "metadata": {},
   "outputs": [],
   "source": [
    "cooling_box = read_iso.get_cooling_curve(mass=1) # the mass is in Jupiter masses\n",
    "cooling_box.open_box()"
   ]
  },
  {
   "cell_type": "code",
   "execution_count": null,
   "id": "b66f89ba",
   "metadata": {},
   "outputs": [],
   "source": [
    "plt.figure()\n",
    "plt.plot(cooling_box.ages, cooling_box.log_lum, label=f'Mass = {cooling_box.mass}'+r' $M_\\mathrm{J}$')\n",
    "plt.xlabel(r'Time (Myr)', fontsize=14)\n",
    "plt.ylabel(r'$\\log(L/L_\\odot)$', fontsize=14)\n",
    "plt.legend(fontsize=14)\n",
    "plt.xscale(\"log\")\n",
    "\n",
    "plt.figure()\n",
    "plt.plot(cooling_box.ages, cooling_box.teff, label=f'Mass = {cooling_box.mass}'+r' $M_\\mathrm{J}$')\n",
    "plt.xlabel(r'Time (Myr)', fontsize=14)\n",
    "plt.ylabel(r'$T_{eff} (K)$', fontsize=14)\n",
    "plt.legend(fontsize=14)\n",
    "plt.xscale(\"log\")\n",
    "\n",
    "plt.figure()\n",
    "plt.plot(cooling_box.ages, cooling_box.logg, label=f'Mass = {cooling_box.mass}'+r' $M_\\mathrm{J}$')\n",
    "plt.xlabel(r'Time (Myr)', fontsize=14)\n",
    "plt.ylabel(r'$log(g)$', fontsize=14)\n",
    "plt.legend(fontsize=14)\n",
    "plt.xscale(\"log\")"
   ]
  },
  {
   "cell_type": "markdown",
   "id": "8029d7c4",
   "metadata": {},
   "source": [
    "### Use interpolation to estimate the effective temperature at any given age\n",
    "\n",
    "Note that age is in Myr, and we are interpolating in log-space. The sample code below predicts the temperature at 4.5 Gyr."
   ]
  },
  {
   "cell_type": "code",
   "execution_count": null,
   "id": "05b90818",
   "metadata": {},
   "outputs": [],
   "source": [
    "print(\"interpolated T_eff: \", np.interp(np.log10(4.5e3), np.log10(cooling_box.ages), cooling_box.teff))"
   ]
  },
  {
   "cell_type": "markdown",
   "id": "d0bb1042",
   "metadata": {},
   "source": [
    "# Plot the 10 Gyr Isochrone\n",
    "\n",
    "Load in the 10 Gyr isochrone for objects between 1 and 50 Juptier masses, and plot how their luminosity changes as a function of mass."
   ]
  },
  {
   "cell_type": "code",
   "execution_count": null,
   "id": "69974f0b",
   "metadata": {},
   "outputs": [],
   "source": [
    "iso_box = read_iso.get_isochrone(age=10000,\n",
    "                                 masses=np.linspace(1., 50., 50),\n",
    "                                 filter_mag='MKO_H',\n",
    "                                 filters_color=('MKO_K', 'MKO_Mp'))\n",
    "iso_box.open_box()"
   ]
  },
  {
   "cell_type": "code",
   "execution_count": null,
   "id": "891faca6",
   "metadata": {},
   "outputs": [],
   "source": [
    "plt.plot(iso_box.masses, iso_box.log_lum, label=f'Age = {iso_box.age} Myr')\n",
    "plt.xlabel(r'Mass ($M_\\mathrm{J}$)', fontsize=14)\n",
    "plt.ylabel(r'$\\log(L/L_\\odot)$', fontsize=14)\n",
    "plt.legend(fontsize=14)\n",
    "plt.show()"
   ]
  },
  {
   "cell_type": "code",
   "execution_count": null,
   "id": "87010bd7",
   "metadata": {},
   "outputs": [],
   "source": []
  }
 ],
 "metadata": {
  "kernelspec": {
   "display_name": "Python 3 (ipykernel)",
   "language": "python",
   "name": "python3"
  },
  "language_info": {
   "codemirror_mode": {
    "name": "ipython",
    "version": 3
   },
   "file_extension": ".py",
   "mimetype": "text/x-python",
   "name": "python",
   "nbconvert_exporter": "python",
   "pygments_lexer": "ipython3",
   "version": "3.9.1"
  }
 },
 "nbformat": 4,
 "nbformat_minor": 5
}
