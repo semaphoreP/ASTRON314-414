{
 "cells": [
  {
   "attachments": {},
   "cell_type": "markdown",
   "id": "998f7a9a",
   "metadata": {},
   "source": [
    "# Transiting Exoplanets Workbook\n",
    "\n",
    "This notebook demonstrates how to download Kepler photometry and use it to detect a transiting planet."
   ]
  },
  {
   "attachments": {},
   "cell_type": "markdown",
   "id": "78289847",
   "metadata": {},
   "source": [
    "# Installation\n",
    "\n",
    "Run the following command to install the `lightkurve` package"
   ]
  },
  {
   "cell_type": "code",
   "execution_count": null,
   "id": "6e076d48",
   "metadata": {},
   "outputs": [],
   "source": [
    "!pip install lightkurve"
   ]
  },
  {
   "attachments": {},
   "cell_type": "markdown",
   "id": "5b7a3442",
   "metadata": {},
   "source": [
    "# Import Necessary Packages"
   ]
  },
  {
   "cell_type": "code",
   "execution_count": null,
   "id": "ef926a73",
   "metadata": {},
   "outputs": [],
   "source": [
    "import lightkurve as lk\n",
    "import matplotlib.pylab as plt\n",
    "%matplotlib inline"
   ]
  },
  {
   "attachments": {},
   "cell_type": "markdown",
   "id": "e9a75a6e",
   "metadata": {},
   "source": [
    "# Search for photometry for a particular Kepler system\n",
    "\n",
    "Enter the star name (the example uses Kepler-10). This cell will output a table of all the datasetes of Kepler data that exist for this star. For Kepler-10, there are a lot of datasets, so we probably will not use all of them (to keep the computation fast). Note that a star can have multiple datasets per quarter (a single dataset does not span the entire quarter)."
   ]
  },
  {
   "cell_type": "code",
   "execution_count": 113,
   "id": "d71d285c",
   "metadata": {},
   "outputs": [
    {
     "data": {
      "text/html": [
       "SearchResult containing 34 data products.\n",
       "\n",
       "<table id=\"table139645200980480\">\n",
       "<thead><tr><th>#</th><th>mission</th><th>year</th><th>author</th><th>exptime</th><th>target_name</th><th>distance</th></tr></thead>\n",
       "<thead><tr><th></th><th></th><th></th><th></th><th>s</th><th></th><th>arcsec</th></tr></thead>\n",
       "<tr><td>0</td><td>Kepler Quarter 02</td><td>2009</td><td><a href='https://archive.stsci.edu/kepler/data_products.html'>Kepler</a></td><td>60</td><td>kplr011904151</td><td>0.0</td></tr>\n",
       "<tr><td>1</td><td>Kepler Quarter 03</td><td>2009</td><td><a href='https://archive.stsci.edu/kepler/data_products.html'>Kepler</a></td><td>60</td><td>kplr011904151</td><td>0.0</td></tr>\n",
       "<tr><td>2</td><td>Kepler Quarter 03</td><td>2009</td><td><a href='https://archive.stsci.edu/kepler/data_products.html'>Kepler</a></td><td>60</td><td>kplr011904151</td><td>0.0</td></tr>\n",
       "<tr><td>3</td><td>Kepler Quarter 03</td><td>2009</td><td><a href='https://archive.stsci.edu/kepler/data_products.html'>Kepler</a></td><td>60</td><td>kplr011904151</td><td>0.0</td></tr>\n",
       "<tr><td>4</td><td>Kepler Quarter 04</td><td>2010</td><td><a href='https://archive.stsci.edu/kepler/data_products.html'>Kepler</a></td><td>60</td><td>kplr011904151</td><td>0.0</td></tr>\n",
       "<tr><td>5</td><td>Kepler Quarter 05</td><td>2010</td><td><a href='https://archive.stsci.edu/kepler/data_products.html'>Kepler</a></td><td>60</td><td>kplr011904151</td><td>0.0</td></tr>\n",
       "<tr><td>6</td><td>Kepler Quarter 05</td><td>2010</td><td><a href='https://archive.stsci.edu/kepler/data_products.html'>Kepler</a></td><td>60</td><td>kplr011904151</td><td>0.0</td></tr>\n",
       "<tr><td>7</td><td>Kepler Quarter 05</td><td>2010</td><td><a href='https://archive.stsci.edu/kepler/data_products.html'>Kepler</a></td><td>60</td><td>kplr011904151</td><td>0.0</td></tr>\n",
       "<tr><td>8</td><td>Kepler Quarter 06</td><td>2010</td><td><a href='https://archive.stsci.edu/kepler/data_products.html'>Kepler</a></td><td>60</td><td>kplr011904151</td><td>0.0</td></tr>\n",
       "<tr><td>...</td><td>...</td><td>...</td><td>...</td><td>...</td><td>...</td><td>...</td></tr>\n",
       "<tr><td>24</td><td>Kepler Quarter 13</td><td>2012</td><td><a href='https://archive.stsci.edu/kepler/data_products.html'>Kepler</a></td><td>60</td><td>kplr011904151</td><td>0.0</td></tr>\n",
       "<tr><td>25</td><td>Kepler Quarter 13</td><td>2012</td><td><a href='https://archive.stsci.edu/kepler/data_products.html'>Kepler</a></td><td>60</td><td>kplr011904151</td><td>0.0</td></tr>\n",
       "<tr><td>26</td><td>Kepler Quarter 14</td><td>2012</td><td><a href='https://archive.stsci.edu/kepler/data_products.html'>Kepler</a></td><td>60</td><td>kplr011904151</td><td>0.0</td></tr>\n",
       "<tr><td>27</td><td>Kepler Quarter 14</td><td>2012</td><td><a href='https://archive.stsci.edu/kepler/data_products.html'>Kepler</a></td><td>60</td><td>kplr011904151</td><td>0.0</td></tr>\n",
       "<tr><td>28</td><td>Kepler Quarter 14</td><td>2012</td><td><a href='https://archive.stsci.edu/kepler/data_products.html'>Kepler</a></td><td>60</td><td>kplr011904151</td><td>0.0</td></tr>\n",
       "<tr><td>29</td><td>Kepler Quarter 15</td><td>2012</td><td><a href='https://archive.stsci.edu/kepler/data_products.html'>Kepler</a></td><td>60</td><td>kplr011904151</td><td>0.0</td></tr>\n",
       "<tr><td>30</td><td>Kepler Quarter 15</td><td>2012</td><td><a href='https://archive.stsci.edu/kepler/data_products.html'>Kepler</a></td><td>60</td><td>kplr011904151</td><td>0.0</td></tr>\n",
       "<tr><td>31</td><td>Kepler Quarter 15</td><td>2013</td><td><a href='https://archive.stsci.edu/kepler/data_products.html'>Kepler</a></td><td>60</td><td>kplr011904151</td><td>0.0</td></tr>\n",
       "<tr><td>32</td><td>Kepler Quarter 17</td><td>2013</td><td><a href='https://archive.stsci.edu/kepler/data_products.html'>Kepler</a></td><td>60</td><td>kplr011904151</td><td>0.0</td></tr>\n",
       "<tr><td>33</td><td>Kepler Quarter 17</td><td>2013</td><td><a href='https://archive.stsci.edu/kepler/data_products.html'>Kepler</a></td><td>60</td><td>kplr011904151</td><td>0.0</td></tr>\n",
       "</table>\n",
       "Length = 34 rows"
      ],
      "text/plain": [
       "SearchResult containing 34 data products.\n",
       "\n",
       " #       mission      year author exptime  target_name  distance\n",
       "                                     s                   arcsec \n",
       "--- ----------------- ---- ------ ------- ------------- --------\n",
       "  0 Kepler Quarter 02 2009 Kepler      60 kplr011904151      0.0\n",
       "  1 Kepler Quarter 03 2009 Kepler      60 kplr011904151      0.0\n",
       "  2 Kepler Quarter 03 2009 Kepler      60 kplr011904151      0.0\n",
       "  3 Kepler Quarter 03 2009 Kepler      60 kplr011904151      0.0\n",
       "  4 Kepler Quarter 04 2010 Kepler      60 kplr011904151      0.0\n",
       "  5 Kepler Quarter 05 2010 Kepler      60 kplr011904151      0.0\n",
       "  6 Kepler Quarter 05 2010 Kepler      60 kplr011904151      0.0\n",
       "  7 Kepler Quarter 05 2010 Kepler      60 kplr011904151      0.0\n",
       "  8 Kepler Quarter 06 2010 Kepler      60 kplr011904151      0.0\n",
       "...               ...  ...    ...     ...           ...      ...\n",
       " 24 Kepler Quarter 13 2012 Kepler      60 kplr011904151      0.0\n",
       " 25 Kepler Quarter 13 2012 Kepler      60 kplr011904151      0.0\n",
       " 26 Kepler Quarter 14 2012 Kepler      60 kplr011904151      0.0\n",
       " 27 Kepler Quarter 14 2012 Kepler      60 kplr011904151      0.0\n",
       " 28 Kepler Quarter 14 2012 Kepler      60 kplr011904151      0.0\n",
       " 29 Kepler Quarter 15 2012 Kepler      60 kplr011904151      0.0\n",
       " 30 Kepler Quarter 15 2012 Kepler      60 kplr011904151      0.0\n",
       " 31 Kepler Quarter 15 2013 Kepler      60 kplr011904151      0.0\n",
       " 32 Kepler Quarter 17 2013 Kepler      60 kplr011904151      0.0\n",
       " 33 Kepler Quarter 17 2013 Kepler      60 kplr011904151      0.0\n",
       "Length = 34 rows"
      ]
     },
     "execution_count": 113,
     "metadata": {},
     "output_type": "execute_result"
    }
   ],
   "source": [
    "search_result = lk.search_lightcurve('Kepler-10', mission='Kepler', exptime=60)\n",
    "search_result"
   ]
  },
  {
   "attachments": {},
   "cell_type": "markdown",
   "id": "ea7e3063",
   "metadata": {},
   "source": [
    "# Download Kepler Photometry\n",
    "\n",
    "The following lines will download some Kepler Photometry. Note that we will only download the first 8 entries to keep the data processing times manageable. Note that if you look at a different star, you may need to change how many entries to keep: more entries means more data which means better sensitivity, while other stars may not have 8 entries of data so you may need to choose less.\n"
   ]
  },
  {
   "cell_type": "code",
   "execution_count": null,
   "id": "28acb240",
   "metadata": {},
   "outputs": [],
   "source": [
    "lc_collection = search_result[:8].download_all() # only download the first 8 entries\n",
    "lc_collection"
   ]
  },
  {
   "cell_type": "code",
   "execution_count": null,
   "id": "561c8161",
   "metadata": {
    "scrolled": true
   },
   "outputs": [],
   "source": [
    "\n",
    "# Create a larger figure for clarity\n",
    "fig, ax = plt.subplots(figsize=(20,5))\n",
    "# Plot the light curve collection\n",
    "lc_collection.plot(ax=ax);"
   ]
  },
  {
   "attachments": {},
   "cell_type": "markdown",
   "id": "4940cd33",
   "metadata": {},
   "source": [
    "# Process the lightcurve\n",
    "\n",
    "To process the lightcurve, we will: \n",
    "\n",
    " 1. Stitch all the data together\n",
    " 2. Use a filter to remove variations in the light curve due to instrumental and stellar effects (this scale is chosen to be much larger than the transit duration so any transits are not filtered out)\n",
    " 3. Extreme outliters are removed"
   ]
  },
  {
   "cell_type": "code",
   "execution_count": null,
   "id": "b1341f32",
   "metadata": {},
   "outputs": [],
   "source": [
    "# Flatten the light curve\n",
    "lc = lc_collection.stitch().flatten(window_length=901).remove_outliers(sigma=6)\n",
    "\n",
    "lc.plot();"
   ]
  },
  {
   "attachments": {},
   "cell_type": "markdown",
   "id": "d3c7cd86",
   "metadata": {},
   "source": [
    "# Search For Planets Using a Periodogram Search\n",
    "\n",
    "This is a plot of periodogram power versus orbital period. Strong peaks indicate there is a periodic signal here that matches a transit pattern.\n",
    "\n",
    "The periodogram search can be finncky if not all instrumental/stellar effects are removed. To mitigate that, pick a search period range (the `period` variable) that is close to the period you expect (e.g., from previous detections). Astronomers trying to detect new planets don't have such a luxury!"
   ]
  },
  {
   "cell_type": "code",
   "execution_count": null,
   "id": "cf7cf6fc",
   "metadata": {},
   "outputs": [],
   "source": [
    "import numpy as np\n",
    "# Create array of periods to search\n",
    "period = np.linspace(0.7, 0.9, 1000) # units of days\n",
    "# Plot the periodogram \n",
    "bls = lc.to_periodogram(method='bls', period=period, frequency_factor=500);\n",
    "bls.plot();"
   ]
  },
  {
   "attachments": {},
   "cell_type": "markdown",
   "id": "494c1d49",
   "metadata": {},
   "source": [
    "## If you don't see a peak in the periodogram above corresponding to your period:\n",
    "\n",
    " 1. Change the search period\n",
    " 2. Try including more data\n",
    " 3. Pick a different, easier planet to detect\n",
    "\n",
    "# Measured planet parameters and Phase-folded light curve\n",
    "\n",
    "This analysis returns the measured planet period (`planet_period`), planet transit duration (`planet_duration`), and the start time of one of the transits (`planet_t0`). \n",
    "\n",
    "With the measured period, we can phase-fold the light curve to stack all the data points together. However, there is a lot of noise still, so it may be hard to see the transit."
   ]
  },
  {
   "cell_type": "code",
   "execution_count": null,
   "id": "82ca6a14",
   "metadata": {},
   "outputs": [],
   "source": [
    "planet_period = bls.period_at_max_power\n",
    "planet_t0 = bls.transit_time_at_max_power\n",
    "planet_duration = bls.duration_at_max_power\n",
    "\n",
    "print(planet_period, planet_t0, planet_duration)\n",
    "\n",
    "\n",
    "folded_lc = lc.fold(period=planet_period, epoch_time=planet_t0)\n",
    "folded_lc.errorbar();\n",
    "plt.xlim([-0.1, 0.1])"
   ]
  },
  {
   "attachments": {},
   "cell_type": "markdown",
   "id": "15edbabf",
   "metadata": {},
   "source": [
    "Plot wiht transit Model. \n",
    "\n",
    "To average out the noise, we will bin data points close in phase together. To additionally help guide the eye, we will plot a transit model using our best fit parameters. "
   ]
  },
  {
   "cell_type": "code",
   "execution_count": null,
   "id": "9838098b",
   "metadata": {},
   "outputs": [],
   "source": [
    "# Create a BLS model using the BLS parameters\n",
    "planet_model = bls.get_transit_model(period=planet_period,\n",
    "                                     transit_time=planet_t0,\n",
    "                                     duration=planet_duration)\n",
    "\n",
    "ax = lc.fold(planet_period, planet_t0).bin(.0005).scatter()\n",
    "planet_model.fold(planet_period, planet_t0).plot(ax=ax, c='r', lw=2)\n",
    "ax.set_xlim(-0.5, 0.5);\n",
    "\n",
    "\n"
   ]
  },
  {
   "attachments": {},
   "cell_type": "markdown",
   "id": "836fc1a6",
   "metadata": {},
   "source": [
    "# Plot individual transits\n",
    "\n",
    "This plot below visualizes how many transits there are in the data. There amy be too many to tell. "
   ]
  },
  {
   "cell_type": "code",
   "execution_count": null,
   "id": "7ea3f7d6",
   "metadata": {},
   "outputs": [],
   "source": [
    "ax = lc.scatter();\n",
    "planet_model.plot(ax=ax, c='r', label='Planet Transit Model');"
   ]
  },
  {
   "attachments": {},
   "cell_type": "markdown",
   "id": "5534c8a5",
   "metadata": {},
   "source": [
    "# Compute the transit depth.\n",
    "\n",
    "Rather than estimate it from the data, which is noisy, we instead use the model trasit to measure the transit depth (which is just the maximium change in flux). "
   ]
  },
  {
   "cell_type": "code",
   "execution_count": null,
   "id": "740e8aed",
   "metadata": {},
   "outputs": [],
   "source": [
    "transit_depth = (np.max(planet_model.flux) - np.min(planet_model.flux))\n",
    "print(transit_depth)"
   ]
  },
  {
   "cell_type": "code",
   "execution_count": null,
   "id": "f0161e35",
   "metadata": {},
   "outputs": [],
   "source": []
  }
 ],
 "metadata": {
  "kernelspec": {
   "display_name": "Python 3 (ipykernel)",
   "language": "python",
   "name": "python3"
  },
  "language_info": {
   "codemirror_mode": {
    "name": "ipython",
    "version": 3
   },
   "file_extension": ".py",
   "mimetype": "text/x-python",
   "name": "python",
   "nbconvert_exporter": "python",
   "pygments_lexer": "ipython3",
   "version": "3.9.1"
  }
 },
 "nbformat": 4,
 "nbformat_minor": 5
}
