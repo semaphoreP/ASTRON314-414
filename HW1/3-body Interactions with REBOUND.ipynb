{
 "cells": [
  {
   "cell_type": "markdown",
   "id": "78f5ac49",
   "metadata": {},
   "source": [
    "# Problem 4 (for ASTRON 414 Students)\n",
    "\n",
    "If you don't have REBOUND installed or are running the notebook through Google Colab, you need to run the following line first"
   ]
  },
  {
   "cell_type": "code",
   "execution_count": null,
   "id": "92af95a0",
   "metadata": {},
   "outputs": [],
   "source": [
    "!pip install rebound"
   ]
  },
  {
   "cell_type": "code",
   "execution_count": null,
   "id": "2cf72b0c",
   "metadata": {},
   "outputs": [],
   "source": [
    "# import statements\n",
    "import numpy as np\n",
    "import rebound\n",
    "import matplotlib.pylab as plt\n",
    "%matplotlib inline"
   ]
  },
  {
   "cell_type": "markdown",
   "id": "f68744f5",
   "metadata": {},
   "source": [
    "## Setup a REBOUND simulation\n",
    "\n",
    "We will setup a planetary simulation and plot its initial conditions. You can modify any orbital elements for a planet (see https://rebound.readthedocs.io/en/latest/ipython_examples/OrbitalElements/ for details on REBOUND orbital elements).\n",
    "\n",
    "Note that we will build our planetary system from inside-out. The orbital elements are better defined this way. "
   ]
  },
  {
   "cell_type": "code",
   "execution_count": null,
   "id": "aff0030b",
   "metadata": {},
   "outputs": [],
   "source": [
    "sim = rebound.Simulation()\n",
    "sim.units = ('yr', 'AU', 'Msun') # set the units for the simulation. All lenghts in AU, all times in years, and masses in solar masses\n",
    "\n",
    "sim.add(m=1.)                # Central star, 1 Msun\n",
    "sim.add(m=3e-4, a=1, e=0.2)  # Saturn mass planet at 1 au\n",
    "sim.add(m=1e-3, a=5, e=0.1)  # Jupiter mass planet at 5 au\n",
    "sim.move_to_com()\n",
    "\n",
    "# plot the orbit\n",
    "rebound.OrbitPlot(sim, unitlabel=\"[AU]\", color=True)"
   ]
  },
  {
   "cell_type": "markdown",
   "id": "619c7a13",
   "metadata": {},
   "source": [
    "## Run a simulation\n",
    "\n",
    "Simulate the system forward in time. We use the `sim.integrate(t)` function to simulate the system forward to its state at time `t`. We will also save the eccentricity of one of the planets over time. "
   ]
  },
  {
   "cell_type": "code",
   "execution_count": null,
   "id": "274458e5",
   "metadata": {},
   "outputs": [],
   "source": [
    "timesteps = np.arange(0, 200000, 0.5) # simulate forward in time 50000 yrs in 0.5 year timesteps\n",
    "\n",
    "tot_steps = len(timesteps) # total number of time steps in simulation\n",
    "\n",
    "ecc_history = np.zeros(tot_steps) # array to save eccentricity history\n",
    "\n",
    "test_particle = sim.particles[1] # particle/planet that we are saving the eccentricity of\n",
    "\n",
    "for index, t in enumerate(timesteps):\n",
    "    sim.integrate(t) # simulate forward to the next time t\n",
    "    \n",
    "    ecc_history[index] = test_particle.e # save the ecc of the planet"
   ]
  },
  {
   "cell_type": "code",
   "execution_count": null,
   "id": "9bc899eb",
   "metadata": {},
   "outputs": [],
   "source": [
    "# make a plot of eccentricity vs time\n",
    "plt.figure(figsize=(7,3))\n",
    "plt.plot(timesteps, ecc_history)\n",
    "plt.xlim(0, timesteps[-1])\n",
    "\n",
    "plt.xlabel(\"Time (years)\")\n",
    "plt.ylabel(\"Eccentricity\")"
   ]
  },
  {
   "cell_type": "code",
   "execution_count": null,
   "id": "9be602f8",
   "metadata": {},
   "outputs": [],
   "source": []
  },
  {
   "cell_type": "code",
   "execution_count": null,
   "id": "065f0ef5",
   "metadata": {},
   "outputs": [],
   "source": []
  }
 ],
 "metadata": {
  "kernelspec": {
   "display_name": "Python 3 (ipykernel)",
   "language": "python",
   "name": "python3"
  },
  "language_info": {
   "codemirror_mode": {
    "name": "ipython",
    "version": 3
   },
   "file_extension": ".py",
   "mimetype": "text/x-python",
   "name": "python",
   "nbconvert_exporter": "python",
   "pygments_lexer": "ipython3",
   "version": "3.9.1"
  }
 },
 "nbformat": 4,
 "nbformat_minor": 5
}
